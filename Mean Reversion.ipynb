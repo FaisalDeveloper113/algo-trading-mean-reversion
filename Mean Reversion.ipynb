{
 "cells": [
  {
   "cell_type": "markdown",
   "metadata": {},
   "source": [
    "## Algorithmic Trading: Mean Reversion "
   ]
  },
  {
   "cell_type": "code",
   "execution_count": null,
   "metadata": {},
   "outputs": [],
   "source": [
    "import pandas as pd\n",
    "import numpy as np\n",
    "import matplotlib.pyplot as plt\n",
    "import requests\n",
    "import datetime\n",
    "\n",
    "import matplotlib.dates as mdates\n",
    "from sklearn.linear_model import LinearRegression\n"
   ]
  },
  {
   "cell_type": "markdown",
   "metadata": {},
   "source": [
    "### Import Libraries"
   ]
  },
  {
   "cell_type": "markdown",
   "metadata": {},
   "source": [
    "### Get Data"
   ]
  },
  {
   "cell_type": "code",
   "execution_count": null,
   "metadata": {},
   "outputs": [],
   "source": [
    "# Load data from CSV\n",
    "csv_file_path = 'USA30IDXUSD.csv'\n",
    "csv_file_path4h = 'USA30IDXUSD4h.csv'\n",
    "df_ltf = pd.read_csv(csv_file_path)\n",
    "df_htf = pd.read_csv(csv_file_path4h)"
   ]
  },
  {
   "cell_type": "markdown",
   "metadata": {},
   "source": [
    "Format HTF Data"
   ]
  },
  {
   "cell_type": "code",
   "execution_count": null,
   "metadata": {},
   "outputs": [],
   "source": [
    "# Combine Date and Timestamp columns into a single datetime column\n",
    "df_htf['date'] = pd.to_datetime(df_htf['Date'].astype(str) + ' ' + df_htf['Timestamp'].astype(str))\n",
    "\n",
    "# Drop the original Date and Timestamp columns if no longer needed\n",
    "df_htf.drop(['Date', 'Timestamp'], axis=1, inplace=True)\n",
    "\n",
    "# Rename columns\n",
    "df_htf = df_htf.rename(columns={\n",
    "    'Open': 'open',\n",
    "    'High': 'high',\n",
    "    'Low': 'low',\n",
    "    'Close': 'close',\n",
    "    'Volume': 'volume'\n",
    "})\n",
    "\n",
    "# Reverse index\n",
    "df_htf = df_htf.reindex(index=df_htf.index[::-1])\n",
    "df_htf.reset_index(level=0, inplace=True)\n",
    "\n",
    "# Drop the 'index' column if it's not needed\n",
    "df_htf.drop('index', axis=1, inplace=True)\n"
   ]
  },
  {
   "cell_type": "markdown",
   "metadata": {},
   "source": [
    "format LTF Data"
   ]
  },
  {
   "cell_type": "code",
   "execution_count": null,
   "metadata": {},
   "outputs": [],
   "source": [
    "# Combine Date and Timestamp columns into a single datetime column\n",
    "df_ltf['date'] = pd.to_datetime(df_ltf['Date'].astype(str) + ' ' + df_ltf['Timestamp'].astype(str))\n",
    "\n",
    "# Drop the original Date and Timestamp columns if no longer needed\n",
    "df_ltf.drop(['Date', 'Timestamp'], axis=1, inplace=True)\n",
    "\n",
    "# Rename columns\n",
    "df_ltf = df_ltf.rename(columns={\n",
    "    'Open': 'open',\n",
    "    'High': 'high',\n",
    "    'Low': 'low',\n",
    "    'Close': 'close',\n",
    "    'Volume': 'volume'\n",
    "})\n",
    "\n",
    "# Reverse index\n",
    "df_ltf = df_ltf.reindex(index=df_ltf.index[::-1])\n",
    "df_ltf.reset_index(level=0, inplace=True)\n",
    "\n",
    "# Drop the 'index' column if it's not needed\n",
    "df_ltf.drop('index', axis=1, inplace=True)"
   ]
  },
  {
   "cell_type": "markdown",
   "metadata": {},
   "source": [
    "Select Start and End Time"
   ]
  },
  {
   "cell_type": "code",
   "execution_count": null,
   "metadata": {},
   "outputs": [],
   "source": [
    "df_ltf = df_ltf[((df_ltf['date'] >= pd.to_datetime('2024-01-01')) & (df_ltf['date'] <= pd.to_datetime('2024-08-05')))]\n",
    "df_htf = df_htf[((df_htf['date'] >= pd.to_datetime('2024-01-01')) & (df_htf['date'] <= pd.to_datetime('2024-08-07')))]"
   ]
  },
  {
   "cell_type": "markdown",
   "metadata": {},
   "source": [
    "### Calculate ma"
   ]
  },
  {
   "cell_type": "code",
   "execution_count": null,
   "metadata": {},
   "outputs": [],
   "source": [
    "#Short moving averages (5-20 periods) are best suited for short-term trends and trading\n",
    "df_ltf['ma_200'] = df_ltf['close'].rolling(200).mean()\n",
    "df_htf['ema_100'] = df_htf['close'].ewm(span=100, adjust=False).mean()"
   ]
  },
  {
   "cell_type": "code",
   "execution_count": null,
   "metadata": {
    "scrolled": true
   },
   "outputs": [],
   "source": [
    "#plot for validation\n",
    "plt.figure(figsize=(12,5))\n",
    "plt.xticks(rotation=45)\n",
    "\n",
    "plt.plot(df_ltf['date'], df_ltf['close'], label = 'LTF Close')\n",
    "plt.plot(df_ltf['date'], df_ltf['ma_200'], label = '200 ma')\n",
    "\n",
    "plt.legend()\n",
    "plt.show()\n"
   ]
  },
  {
   "cell_type": "markdown",
   "metadata": {},
   "source": [
    "Calculate the Angle of the Linear regression "
   ]
  },
  {
   "cell_type": "code",
   "execution_count": null,
   "metadata": {},
   "outputs": [],
   "source": [
    "def calculate_ma_angle(df, ma_column='ema_100', window=10):\n",
    "    \"\"\"\n",
    "    Calculate the angle of the moving average line over a rolling window.\n",
    "\n",
    "    Parameters:\n",
    "    - df (pd.DataFrame): DataFrame containing the moving average column.\n",
    "    - ma_column (str): Name of the column containing the moving average values.\n",
    "    - window (int): Number of data points to include in each rolling window.\n",
    "\n",
    "    Returns:\n",
    "    - List of angles in degrees with NaNs for the initial rows without enough data.\n",
    "    \"\"\"\n",
    "    angles = np.full(len(df), np.nan)  # Initialize with NaNs\n",
    "\n",
    "    for i in range(len(df) - window + 1):\n",
    "        # Select 'window' data points\n",
    "        subset = df.iloc[i:i + window]\n",
    "        \n",
    "        # Prepare data for calculating the slope of the moving average\n",
    "        X = np.arange(window).reshape(-1, 1)  # Time steps (0, 1, 2, ..., window-1)\n",
    "        y = subset[ma_column].values  # Moving average values\n",
    "\n",
    "        # Fit linear regression model on the entire window\n",
    "        model_window = LinearRegression().fit(X, y)\n",
    "        slope_window = model_window.coef_[0]  # Slope of the regression line for the entire window\n",
    "\n",
    "        # Calculate angle in degrees\n",
    "        angle_rad = np.arctan(slope_window)\n",
    "        angle_deg = np.degrees(angle_rad)\n",
    "        angles[i + window - 1] = angle_deg  # Assign angle to the last point of the window\n",
    "\n",
    "    return angles\n"
   ]
  },
  {
   "cell_type": "code",
   "execution_count": null,
   "metadata": {},
   "outputs": [],
   "source": [
    "\n",
    "df_htf['ma_angle'] = calculate_ma_angle(df_htf, ma_column='ema_100')\n",
    "\n",
    "# Plot for validation\n",
    "plt.figure(figsize=(12, 5))\n",
    "plt.xticks(rotation=45)\n",
    "\n",
    "# Plotting the close price and 100-period moving average\n",
    "plt.plot(df_htf['date'], df_htf['close'], label='Close')\n",
    "plt.plot(df_htf['date'], df_htf['ema_100'], label='100-period EMA')\n",
    "\n",
    "# Fill background based on angle\n",
    "for i in range(len(df_htf) - 1):\n",
    "    angle = df_htf['ma_angle'].iloc[i]\n",
    "    if angle > 50:\n",
    "        plt.axvspan(df_htf['date'].iloc[i], df_htf['date'].iloc[i + 1], color='lightcoral', alpha=0.5)  # Bullish: Light Green\n",
    "    elif angle < -50:\n",
    "        plt.axvspan(df_htf['date'].iloc[i], df_htf['date'].iloc[i + 1], color='lightgreen', alpha=0.5)  # Bearish: Light Coral\n",
    "    else:\n",
    "        plt.axvspan(df_htf['date'].iloc[i], df_htf['date'].iloc[i + 1], color='darkgrey', alpha=0.5)  # Ranging: Dark Grey\n",
    "\n",
    "# Annotate the angle values\n",
    "for i in range(0, len(df_htf), max(1, len(df_htf) // 10)):  # Adjust the interval as needed\n",
    "    plt.annotate(f'{df_htf[\"ma_angle\"].iloc[i]:.2f}', \n",
    "                 (df_htf['date'].iloc[i], df_htf['close'].iloc[i]), \n",
    "                 textcoords=\"offset points\", \n",
    "                 xytext=(0,10), \n",
    "                 ha='center', \n",
    "                 fontsize=8, \n",
    "                 color='black')\n",
    "\n",
    "plt.xlabel('Date')\n",
    "plt.ylabel('Price')\n",
    "plt.title('Close Price and 100-period EMA with Angle Annotations')\n",
    "plt.legend()\n",
    "plt.show()"
   ]
  },
  {
   "cell_type": "markdown",
   "metadata": {},
   "source": [
    "### Calculate RSI"
   ]
  },
  {
   "cell_type": "code",
   "execution_count": null,
   "metadata": {},
   "outputs": [],
   "source": [
    "def gain(value):\n",
    "    if value < 0:\n",
    "        return 0\n",
    "    else:\n",
    "        return value"
   ]
  },
  {
   "cell_type": "code",
   "execution_count": null,
   "metadata": {},
   "outputs": [],
   "source": [
    "def loss(value):\n",
    "    if value > 0:\n",
    "        return 0\n",
    "    else:\n",
    "        return abs(value)"
   ]
  },
  {
   "cell_type": "code",
   "execution_count": null,
   "metadata": {},
   "outputs": [],
   "source": [
    "\n",
    "period = 13\n",
    "\n",
    "#Calculate price delta\n",
    "df_ltf['delta'] = df_ltf['close'].diff()\n",
    "\n",
    "#Classify delta into gain & loss\n",
    "df_ltf['gain'] = df_ltf['delta'].apply(lambda x:gain(x))\n",
    "df_ltf['loss'] = df_ltf['delta'].apply(lambda x:loss(x))\n",
    "\n",
    "#Calculate ema \n",
    "df_ltf['ema_gain'] = df_ltf['gain'].ewm(period).mean()\n",
    "df_ltf['ema_loss'] = df_ltf['loss'].ewm(period).mean()\n",
    "\n",
    "#Calculate RSI\n",
    "df_ltf['rs'] = df_ltf['ema_gain']/df_ltf['ema_loss']\n",
    "df_ltf['rsi'] = df_ltf['rs'].apply(lambda x: 100 - (100/(x+1)))"
   ]
  },
  {
   "cell_type": "code",
   "execution_count": null,
   "metadata": {},
   "outputs": [],
   "source": [
    "# Ensure 'date' is a column and not the index\n",
    "if 'date' in df_ltf.index.names:\n",
    "    df_ltf.reset_index(inplace=True)\n",
    "\n",
    "# Plot RSI for validation\n",
    "plt.figure(figsize=(12, 5))\n",
    "plt.xticks(rotation=45)\n",
    "\n",
    "x_axis = df_ltf['date']\n",
    "\n",
    "x_axis = df_ltf['date']\n",
    "\n",
    "plt.plot(x_axis, df_ltf['rsi'])\n",
    "plt.axhline(30, c= (.5,.5,.5), ls='--')\n",
    "plt.axhline(70, c= (.5,.5,.5), ls='--')\n",
    "\n",
    "plt.title('RSI (13)', fontweight=\"bold\")\n",
    "plt.ylim([0, 100])"
   ]
  },
  {
   "cell_type": "markdown",
   "metadata": {},
   "source": [
    "### Implementing buy/sell"
   ]
  },
  {
   "cell_type": "markdown",
   "metadata": {},
   "source": [
    "#### Rules:\n",
    "    1. Buy when 13-period RSI below 30 (buy next day) & Price below lower bollinger band\n",
    "    2. Sell when 10-period RSI above 70 (sell next day) & Price above upper bollinger band"
   ]
  },
  {
   "cell_type": "code",
   "execution_count": null,
   "metadata": {},
   "outputs": [],
   "source": [
    "import pandas as pd\n",
    "import matplotlib.pyplot as plt\n",
    "\n",
    "# Initialize signal column\n",
    "df_ltf['signal'] = 0\n",
    "\n",
    "# Merge LTF and HTF DataFrames on datetime\n",
    "df_combined = pd.merge(df_ltf, df_htf[['date', 'ma_angle']], on='date', how='left')\n",
    "\n",
    "# Forward fill the ma_angle to propagate the 4-hour trend to 15-minute intervals\n",
    "df_combined['ma_angle'] = df_combined['ma_angle'].ffill()\n",
    "\n",
    "# Define conditions for buy and sell signals\n",
    "buy_condition = (df_combined['rsi'] < 30) & (df_combined['ma_angle'] < -50)\n",
    "sell_condition = (df_combined['rsi'] > 70) & (df_combined['ma_angle'] > 50)\n",
    "\n",
    "# Identify initial buy and sell signals\n",
    "df_combined.loc[buy_condition, 'signal'] = 1\n",
    "df_combined.loc[sell_condition, 'signal'] = -1\n",
    "\n",
    "# Enforce the 4-candle row difference between signals\n",
    "last_signal_index = -4  # Initialize to -4 to allow the first signal\n",
    "\n",
    "for i in range(len(df_combined)):\n",
    "    if df_combined.loc[i, 'signal'] != 0:\n",
    "        if i - last_signal_index >= 120:  # Check if 4 or more rows have passed\n",
    "            last_signal_index = i  # Update the index of the last valid signal\n",
    "        else:\n",
    "            df_combined.loc[i, 'signal'] = 0  # Invalidate the signal if within 4 rows\n",
    "\n",
    "# Shift signals to the next trading day (optional step depending on your strategy)\n",
    "df_combined['signal'] = df_combined['signal'].shift()\n",
    "df_combined['signal'] = df_combined['signal'].fillna(0)\n",
    "\n",
    "# Prepare the data for plotting\n",
    "plt.figure(figsize=(16, 10))\n",
    "\n",
    "# Plot the close price and moving average on the first subplot\n",
    "plt.subplot(3, 1, 1)\n",
    "plt.plot(df_combined['date'], df_combined['close'], label='Close Price', color='blue')\n",
    "\n",
    "# Plot buy and sell signals on the close price chart\n",
    "plt.scatter(df_combined['date'][df_combined['signal'] == 1], df_combined['close'][df_combined['signal'] == 1], marker='^', color='g', label='Buy Signal', s=100, edgecolor='black', linewidth=1.5)\n",
    "plt.scatter(df_combined['date'][df_combined['signal'] == -1], df_combined['close'][df_combined['signal'] == -1], marker='v', color='r', label='Sell Signal', s=100, edgecolor='black', linewidth=1.5)\n",
    "\n",
    "plt.title('Close Price with Buy and Sell Signals')\n",
    "plt.xlabel('Date')\n",
    "plt.ylabel('Price')\n",
    "plt.legend()\n",
    "plt.grid(True)\n",
    "plt.xticks(rotation=45)\n",
    "\n",
    "# Plot the RSI on the second subplot\n",
    "plt.subplot(3, 1, 2)\n",
    "plt.plot(df_combined['date'], df_combined['rsi'], label='RSI (13)', color='purple')\n",
    "\n",
    "# Plot buy and sell signals on the RSI chart at specific levels\n",
    "plt.scatter(df_combined['date'][df_combined['signal'] == 1], df_combined['rsi'][df_combined['signal'] == 1], marker='^', color='g', label='Buy Signal', s=100, edgecolor='black', linewidth=1.5)\n",
    "plt.scatter(df_combined['date'][df_combined['signal'] == -1], df_combined['rsi'][df_combined['signal'] == -1], marker='v', color='r', label='Sell Signal', s=100, edgecolor='black', linewidth=1.5)\n",
    "\n",
    "plt.axhline(30, color='grey', linestyle='--')\n",
    "plt.axhline(70, color='grey', linestyle='--')\n",
    "\n",
    "plt.title('RSI (13) with Buy/Sell Signals')\n",
    "plt.xlabel('Date')\n",
    "plt.ylabel('RSI')\n",
    "plt.ylim([0, 100])\n",
    "plt.legend()\n",
    "plt.grid(True)\n",
    "plt.xticks(rotation=45)\n",
    "\n",
    "# Plot the HTF EMA and MA angle on the third subplot\n",
    "plt.subplot(3, 1, 3)\n",
    "plt.plot(df_htf['date'], df_htf['close'], label='HTF Close Price', color='blue')\n",
    "plt.plot(df_htf['date'], df_htf['ema_100'], label='100 EMA', color='orange')\n",
    "\n",
    "for i in range(len(df_htf) - 1):\n",
    "    angle = df_htf['ma_angle'].iloc[i]\n",
    "    if angle < -50:\n",
    "        plt.axvspan(df_htf['date'].iloc[i], df_htf['date'].iloc[i + 1], color='lightgreen', alpha=0.3)  # Bearish: Light Coral\n",
    "    elif angle > 50:\n",
    "        plt.axvspan(df_htf['date'].iloc[i], df_htf['date'].iloc[i + 1], color='lightcoral', alpha=0.3)  # Bullish: Light Green\n",
    "    else:\n",
    "        plt.axvspan(df_htf['date'].iloc[i], df_htf['date'].iloc[i + 1], color='darkgrey', alpha=0.3)  # Neutral: Dark Grey\n",
    "\n",
    "plt.title('HTF Close Price and 100 EMA with MA Angles')\n",
    "plt.xlabel('Date')\n",
    "plt.ylabel('Price')\n",
    "plt.legend()\n",
    "plt.grid(True)\n",
    "plt.xticks(rotation=45)\n",
    "\n",
    "plt.tight_layout()\n",
    "plt.show()\n"
   ]
  },
  {
   "cell_type": "markdown",
   "metadata": {},
   "source": [
    "### Backtesting Strategy"
   ]
  },
  {
   "cell_type": "code",
   "execution_count": null,
   "metadata": {
    "scrolled": true
   },
   "outputs": [],
   "source": [
    "#print(df_combined[['date', 'close', 'signal', 'buy_date', 'sell_date']].head(40))\n",
    "import back_testing as bt\n",
    "print(df_combined.head())\n",
    "bt.backtest_with_drawdown_and_equity_curve(df_combined)"
   ]
  }
 ],
 "metadata": {
  "kernelspec": {
   "display_name": "Python 3",
   "language": "python",
   "name": "python3"
  },
  "language_info": {
   "codemirror_mode": {
    "name": "ipython",
    "version": 3
   },
   "file_extension": ".py",
   "mimetype": "text/x-python",
   "name": "python",
   "nbconvert_exporter": "python",
   "pygments_lexer": "ipython3",
   "version": "3.12.4"
  }
 },
 "nbformat": 4,
 "nbformat_minor": 4
}
