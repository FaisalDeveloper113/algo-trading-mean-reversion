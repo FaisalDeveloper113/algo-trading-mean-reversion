{
 "cells": [
  {
   "cell_type": "markdown",
   "metadata": {},
   "source": [
    "## Algorithmic Trading: Mean Reversion "
   ]
  },
  {
   "cell_type": "code",
   "execution_count": null,
   "metadata": {},
   "outputs": [],
   "source": [
    "import pandas as pd\n",
    "import numpy as np\n",
    "import matplotlib.pyplot as plt\n",
    "from sklearn.linear_model import LinearRegression"
   ]
  },
  {
   "cell_type": "code",
   "execution_count": null,
   "metadata": {},
   "outputs": [],
   "source": [
    "START_TIME = '2024-05-01'\n",
    "END_TIME = '2024-08-15'\n",
    "HTF_MA = 100\n",
    "HTF_MA_TYPE = 'close'\n",
    "HTF_MA_WINDOW = 10\n",
    "RSI_PERIOD = 13\n",
    "RSI_SELL_LEVEL = 70\n",
    "RSI_BUY_LEVEL = 30\n",
    "BUY_TREND_ANGLE = 50\n",
    "SELL_TREND_ANGLE = -50\n",
    "maxTrades = 5\n",
    "initial_balance = 100000 "
   ]
  },
  {
   "cell_type": "markdown",
   "metadata": {},
   "source": [
    "### Import Libraries"
   ]
  },
  {
   "cell_type": "markdown",
   "metadata": {},
   "source": [
    "### Get Data"
   ]
  },
  {
   "cell_type": "code",
   "execution_count": null,
   "metadata": {},
   "outputs": [],
   "source": [
    "# Load data from CSV\n",
    "csv_file_path = 'USA30IDXUSD.csv'\n",
    "csv_file_path4h = 'USA30IDXUSD4h.csv'\n",
    "csv_file_tickData = 'processed_tick_data.csv'\n",
    "df_ltf = pd.read_csv(csv_file_path)\n",
    "df_htf = pd.read_csv(csv_file_path4h)\n",
    "#df_tickdata = dd.read_csv(csv_file_tickData)"
   ]
  },
  {
   "cell_type": "markdown",
   "metadata": {},
   "source": [
    "Format HTF Data"
   ]
  },
  {
   "cell_type": "code",
   "execution_count": null,
   "metadata": {},
   "outputs": [],
   "source": [
    "# Combine Date and Timestamp columns into a single datetime column\n",
    "df_htf['date'] = pd.to_datetime(df_htf['Date'].astype(str) + ' ' + df_htf['Timestamp'].astype(str))\n",
    "\n",
    "# Drop the original Date and Timestamp columns if no longer needed\n",
    "df_htf.drop(['Date', 'Timestamp'], axis=1, inplace=True)\n",
    "\n",
    "# Rename columns\n",
    "df_htf = df_htf.rename(columns={\n",
    "    'Open': 'open',\n",
    "    'High': 'high',\n",
    "    'Low': 'low',\n",
    "    'Close': 'close',\n",
    "    'Volume': 'volume'\n",
    "})\n",
    "\n",
    "# Reverse index\n",
    "df_htf = df_htf.reindex(index=df_htf.index[::-1])\n",
    "df_htf.reset_index(level=0, inplace=True)\n",
    "\n",
    "# Drop the 'index' column if it's not needed\n",
    "df_htf.drop('index', axis=1, inplace=True)\n"
   ]
  },
  {
   "cell_type": "markdown",
   "metadata": {},
   "source": [
    "format LTF Data"
   ]
  },
  {
   "cell_type": "code",
   "execution_count": null,
   "metadata": {},
   "outputs": [],
   "source": [
    "df_ltf['date'] = pd.to_datetime(df_ltf['Date'].astype(str) + ' ' + df_ltf['Timestamp'].astype(str))\n",
    "\n",
    "df_ltf.drop(['Date', 'Timestamp'], axis=1, inplace=True)\n",
    "\n",
    "df_ltf = df_ltf.rename(columns={\n",
    "    'Open': 'open',\n",
    "    'High': 'high',\n",
    "    'Low': 'low',\n",
    "    'Close': 'close',\n",
    "    'Volume': 'volume'\n",
    "})\n",
    "\n",
    "df_ltf = df_ltf.reindex(index=df_ltf.index[::-1])\n",
    "df_ltf.reset_index(level=0, inplace=True)\n",
    "\n",
    "df_ltf.drop('index', axis=1, inplace=True)"
   ]
  },
  {
   "cell_type": "markdown",
   "metadata": {},
   "source": [
    "Select Start and End Time"
   ]
  },
  {
   "cell_type": "code",
   "execution_count": null,
   "metadata": {},
   "outputs": [],
   "source": [
    "df_ltf = df_ltf[((df_ltf['date'] >= pd.to_datetime(START_TIME)) & (df_ltf['date'] <= pd.to_datetime(END_TIME)))]\n",
    "df_htf = df_htf[((df_htf['date'] >= pd.to_datetime(START_TIME)) & (df_htf['date'] <= pd.to_datetime(END_TIME)))]"
   ]
  },
  {
   "cell_type": "markdown",
   "metadata": {},
   "source": [
    "### Calculate ma"
   ]
  },
  {
   "cell_type": "code",
   "execution_count": null,
   "metadata": {},
   "outputs": [],
   "source": [
    "df_htf[f'EMA_{HTF_MA}'] = df_htf[HTF_MA_TYPE].ewm(span=HTF_MA, adjust=False).mean()"
   ]
  },
  {
   "cell_type": "markdown",
   "metadata": {},
   "source": [
    "Calculate the Angle of the Linear regression "
   ]
  },
  {
   "cell_type": "code",
   "execution_count": null,
   "metadata": {},
   "outputs": [],
   "source": [
    "def calculate_ma_angle(df, ma_column=f'EMA_{HTF_MA}', window=10):\n",
    "    angles = np.full(len(df), np.nan)\n",
    "\n",
    "    for i in range(len(df)):\n",
    "        if i + window < len(df):  \n",
    "            y_values = [df[ma_column].iloc[i], df[ma_column].iloc[i + window]]\n",
    "            X = np.array([0, window]).reshape(-1, 1) \n",
    "            model = LinearRegression().fit(X, y_values)\n",
    "            slope = model.coef_[0] \n",
    "            angle_rad = np.arctan(slope)\n",
    "            angle_deg = np.degrees(angle_rad)\n",
    "            angle_deg = angle_deg*(-1)\n",
    "            angles[i] = angle_deg\n",
    "\n",
    "        else:\n",
    "            angles[i] = np.nan\n",
    "    \n",
    "    return angles\n",
    "\n",
    "df_htf['ma_angle'] = calculate_ma_angle(df_htf, ma_column=f'EMA_{HTF_MA}')"
   ]
  },
  {
   "cell_type": "code",
   "execution_count": null,
   "metadata": {},
   "outputs": [],
   "source": [
    "plt.figure(figsize=(12, 5))\n",
    "plt.xticks(rotation=45)\n",
    "plt.plot(df_htf['date'], df_htf['close'], label='Close')\n",
    "plt.plot(df_htf['date'], df_htf[f'EMA_{HTF_MA}'], label=f'{HTF_MA}-period EMA')\n",
    "\n",
    "for i in range(len(df_htf) - 1):\n",
    "    angle = df_htf['ma_angle'].iloc[i]\n",
    "    if angle > 50:\n",
    "        plt.axvspan(df_htf['date'].iloc[i], df_htf['date'].iloc[i + 1], color='lightgreen', alpha=0.5)  # Bullish: Light Green\n",
    "    elif angle < -50:\n",
    "        plt.axvspan(df_htf['date'].iloc[i], df_htf['date'].iloc[i + 1], color='lightcoral', alpha=0.5)  # Bearish: Light Coral\n",
    "    else:\n",
    "        plt.axvspan(df_htf['date'].iloc[i], df_htf['date'].iloc[i + 1], color='darkgrey', alpha=0.5)  # Ranging: Dark Grey\n",
    "\n",
    "for i in range(0, len(df_htf), max(1, len(df_htf) // 10)):\n",
    "    plt.annotate(f'{df_htf[\"ma_angle\"].iloc[i]:.2f}', \n",
    "                 (df_htf['date'].iloc[i], df_htf[f'EMA_{HTF_MA}'].iloc[i]), \n",
    "                 textcoords=\"offset points\", \n",
    "                 xytext=(0,10), \n",
    "                 ha='center', \n",
    "                 fontsize=8, \n",
    "                 color='black')\n",
    "\n",
    "plt.xlabel('Date')\n",
    "plt.ylabel('Price')\n",
    "plt.title('Close Price and 100-period EMA with Angle Annotations')\n",
    "plt.legend()\n",
    "plt.show()"
   ]
  },
  {
   "cell_type": "markdown",
   "metadata": {},
   "source": [
    "### Calculate RSI"
   ]
  },
  {
   "cell_type": "code",
   "execution_count": null,
   "metadata": {},
   "outputs": [],
   "source": [
    "def gain(value):\n",
    "    if value < 0:\n",
    "        return 0\n",
    "    else:\n",
    "        return value"
   ]
  },
  {
   "cell_type": "code",
   "execution_count": null,
   "metadata": {},
   "outputs": [],
   "source": [
    "def loss(value):\n",
    "    if value > 0:\n",
    "        return 0\n",
    "    else:\n",
    "        return abs(value)"
   ]
  },
  {
   "cell_type": "code",
   "execution_count": null,
   "metadata": {},
   "outputs": [],
   "source": [
    "\n",
    "#Calculate price delta\n",
    "df_ltf['delta'] = df_ltf['close'].diff()\n",
    "\n",
    "#Classify delta into gain & loss\n",
    "df_ltf['gain'] = df_ltf['delta'].apply(lambda x:gain(x))\n",
    "df_ltf['loss'] = df_ltf['delta'].apply(lambda x:loss(x))\n",
    "\n",
    "#Calculate ema \n",
    "df_ltf['ema_gain'] = df_ltf['gain'].ewm(RSI_PERIOD).mean()\n",
    "df_ltf['ema_loss'] = df_ltf['loss'].ewm(RSI_PERIOD).mean()\n",
    "\n",
    "#Calculate RSI\n",
    "df_ltf['rs'] = df_ltf['ema_gain']/df_ltf['ema_loss']\n",
    "df_ltf['rsi'] = df_ltf['rs'].apply(lambda x: 100 - (100/(x+1)))"
   ]
  },
  {
   "cell_type": "code",
   "execution_count": null,
   "metadata": {},
   "outputs": [],
   "source": [
    "if 'date' in df_ltf.index.names:\n",
    "    df_ltf.reset_index(inplace=True)\n",
    "\n",
    "# Plot RSI for validation\n",
    "plt.figure(figsize=(12, 5))\n",
    "plt.xticks(rotation=45)\n",
    "\n",
    "x_axis = df_ltf['date']\n",
    "\n",
    "x_axis = df_ltf['date']\n",
    "\n",
    "plt.plot(x_axis, df_ltf['rsi'])\n",
    "plt.axhline(RSI_BUY_LEVEL, c= (.5,.5,.5), ls='--')\n",
    "plt.axhline(RSI_SELL_LEVEL, c= (.5,.5,.5), ls='--')\n",
    "\n",
    "plt.title('RSI ({RSI_PERIOD})', fontweight=\"bold\")\n",
    "plt.ylim([0, 100])"
   ]
  },
  {
   "cell_type": "markdown",
   "metadata": {},
   "source": [
    "### Implementing buy/sell"
   ]
  },
  {
   "cell_type": "code",
   "execution_count": null,
   "metadata": {},
   "outputs": [],
   "source": [
    "import pandas as pd\n",
    "import matplotlib.pyplot as plt\n",
    "\n",
    "# Initialize signal column\n",
    "df_ltf['signal'] = 0\n",
    "\n",
    "# Merge LTF and HTF DataFrames on datetime\n",
    "df_combined = pd.merge(df_ltf, df_htf[['date', 'ma_angle']], on='date', how='left')\n",
    "\n",
    "# Forward fill the ma_angle to propagate the 4-hour trend to 15-minute intervals\n",
    "df_combined['ma_angle'] = df_combined['ma_angle'].ffill()\n",
    "\n",
    "rsi_shifted = df_combined['rsi'].shift(-1)\n",
    "\n",
    "# Adjusted buy and sell conditions based on RSI and ma_angle\n",
    "buy_condition = (df_combined['rsi'] > RSI_BUY_LEVEL) & (rsi_shifted < RSI_BUY_LEVEL) & (df_combined['ma_angle'] > BUY_TREND_ANGLE)\n",
    "sell_condition = (df_combined['rsi'] < RSI_SELL_LEVEL) & (rsi_shifted > RSI_SELL_LEVEL) & (df_combined['ma_angle'] < SELL_TREND_ANGLE)\n",
    "\n",
    "# Identify initial buy and sell signals\n",
    "df_combined.loc[buy_condition, 'signal'] = 1\n",
    "df_combined.loc[sell_condition, 'signal'] = -1\n",
    "\n",
    "GAP = 100\n",
    "last_signal_index = -GAP \n",
    "last_signal_value = 0 \n",
    "\n",
    "for i in range(len(df_combined)):\n",
    "    current_signal = df_combined.loc[i, 'signal']\n",
    "    \n",
    "    if current_signal != 0:\n",
    "        if (current_signal == last_signal_value) and (i - last_signal_index < GAP):\n",
    "            df_combined.loc[i, 'signal'] = 0\n",
    "        else:\n",
    "            last_signal_index = i\n",
    "            last_signal_value = current_signal\n",
    "\n",
    "# Shift signals to the next trading day (optional step depending on your strategy)\n",
    "df_combined['signal'] = df_combined['signal'].shift()\n",
    "df_combined['signal'] = df_combined['signal'].fillna(0)\n",
    "\n",
    "# Prepare the data for plotting\n",
    "plt.figure(figsize=(16, 10))\n",
    "\n",
    "# Plot the close price and moving average on the first subplot\n",
    "plt.subplot(3, 1, 1)\n",
    "plt.plot(df_combined['date'], df_combined['close'], label='Close Price', color='blue')\n",
    "\n",
    "# Plot buy and sell signals on the close price chart\n",
    "plt.scatter(df_combined['date'][df_combined['signal'] == 1], df_combined['close'][df_combined['signal'] == 1], marker='^', color='g', label='Buy Signal', s=100, edgecolor='black', linewidth=1.5)\n",
    "plt.scatter(df_combined['date'][df_combined['signal'] == -1], df_combined['close'][df_combined['signal'] == -1], marker='v', color='r', label='Sell Signal', s=100, edgecolor='black', linewidth=1.5)\n",
    "\n",
    "plt.title('Close Price with Buy and Sell Signals')\n",
    "plt.xlabel('Date')\n",
    "plt.ylabel('Price')\n",
    "plt.legend()\n",
    "plt.grid(True)\n",
    "plt.xticks(rotation=45)\n",
    "\n",
    "# Plot the RSI on the second subplot\n",
    "plt.subplot(3, 1, 2)\n",
    "plt.plot(df_combined['date'], df_combined['rsi'], label=f'RSI-{RSI_PERIOD}', color='purple')\n",
    "\n",
    "# Plot buy and sell signals on the RSI chart at specific levels\n",
    "plt.scatter(df_combined['date'][df_combined['signal'] == 1], [RSI_BUY_LEVEL] * len(df_combined['date'][df_combined['signal'] == 1]), marker='^', color='g', label='Buy Signal', s=100, edgecolor='black', linewidth=1.5)\n",
    "plt.scatter(df_combined['date'][df_combined['signal'] == -1], [RSI_SELL_LEVEL] * len(df_combined['date'][df_combined['signal'] == -1]), marker='v', color='r', label='Sell Signal', s=100, edgecolor='black', linewidth=1.5)\n",
    "\n",
    "plt.axhline(RSI_BUY_LEVEL, color='grey', linestyle='--')\n",
    "plt.axhline(RSI_SELL_LEVEL, color='grey', linestyle='--')\n",
    "\n",
    "plt.title(f'RSI-{RSI_PERIOD} with Buy/Sell Signals')\n",
    "plt.xlabel('Date')\n",
    "plt.ylabel('RSI')\n",
    "plt.ylim([0, 100])\n",
    "plt.legend()\n",
    "plt.grid(True)\n",
    "plt.xticks(rotation=45)\n",
    "\n",
    "# Plot the HTF EMA and MA angle on the third subplot\n",
    "plt.subplot(3, 1, 3)\n",
    "plt.plot(df_htf['date'], df_htf['close'], label='HTF Close Price', color='blue')\n",
    "plt.plot(df_htf['date'], df_htf[f'EMA_{HTF_MA}'], label=f'EMA_{HTF_MA}', color='orange')\n",
    "\n",
    "for i in range(len(df_htf) - 1):\n",
    "    angle = df_htf['ma_angle'].iloc[i]\n",
    "    if angle < SELL_TREND_ANGLE:\n",
    "        plt.axvspan(df_htf['date'].iloc[i], df_htf['date'].iloc[i + 1], color='lightcoral', alpha=0.3)  # Bearish: Light Coral\n",
    "    elif angle > BUY_TREND_ANGLE:\n",
    "        plt.axvspan(df_htf['date'].iloc[i], df_htf['date'].iloc[i + 1], color='lightgreen', alpha=0.3)  # Bullish: Light Green\n",
    "    else:\n",
    "        plt.axvspan(df_htf['date'].iloc[i], df_htf['date'].iloc[i + 1], color='darkgrey', alpha=0.3)  # Neutral: Dark Grey\n",
    "\n",
    "plt.title('HTF Close Price and 100 EMA with MA Angles')\n",
    "plt.xlabel('Date')\n",
    "plt.ylabel('Price')\n",
    "plt.legend()\n",
    "plt.grid(True)\n",
    "plt.xticks(rotation=45)\n",
    "\n",
    "plt.tight_layout()\n",
    "plt.show()\n",
    "\n",
    "\n",
    "import back_testing as bt\n",
    "bt.backtest_with_drawdown_and_equity_curve(df_combined,maxTrades,initial_balance)\n"
   ]
  }
 ],
 "metadata": {
  "kernelspec": {
   "display_name": "Python 3",
   "language": "python",
   "name": "python3"
  },
  "language_info": {
   "codemirror_mode": {
    "name": "ipython",
    "version": 3
   },
   "file_extension": ".py",
   "mimetype": "text/x-python",
   "name": "python",
   "nbconvert_exporter": "python",
   "pygments_lexer": "ipython3",
   "version": "3.12.4"
  }
 },
 "nbformat": 4,
 "nbformat_minor": 4
}
